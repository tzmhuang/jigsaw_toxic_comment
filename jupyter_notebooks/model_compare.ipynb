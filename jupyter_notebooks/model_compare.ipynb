{
 "cells": [
  {
   "cell_type": "code",
   "execution_count": 1,
   "metadata": {},
   "outputs": [],
   "source": [
    "import sys\n",
    "import os\n",
    "import numpy as np\n",
    "import pandas as pd\n",
    "import transformers\n",
    "import tensorflow as tf\n",
    "import matplotlib.pyplot as plt\n",
    "import datetime\n",
    "ROOT = os.path.abspath('../')\n",
    "sys.path.append(ROOT)\n",
    "import models\n",
    "from util import *"
   ]
  },
  {
   "cell_type": "code",
   "execution_count": 134,
   "metadata": {},
   "outputs": [],
   "source": [
    "DATA_DIR = os.path.join(ROOT,'data')\n",
    "MODEL_DIR = os.path.join(ROOT,'models')\n",
    "LOG_DIR = os.path.join(ROOT,'logs')\n",
    "CHECKPT_DIR = os.path.join(LOG_DIR,'checkpoints')\n",
    "# MODEL = 'jplu/tf-xlm-roberta-base' \n",
    "MODEL = 'distilroberta-base' \n",
    "N_EPOCHS = 2\n",
    "BATCH_SIZE = 32\n",
    "tf.keras.backend.clear_session()"
   ]
  },
  {
   "cell_type": "code",
   "execution_count": 3,
   "metadata": {},
   "outputs": [],
   "source": [
    "# load transformers\n",
    "config = transformers.AutoConfig.from_pretrained(MODEL,output_hidden_states=True)\n",
    "transformer_1 = transformers.TFAutoModel.from_pretrained(MODEL,config=config)\n",
    "transformer_2 = transformers.TFAutoModel.from_pretrained(MODEL,config=config)\n",
    "transformer_3 = transformers.TFAutoModel.from_pretrained(MODEL,config=config)"
   ]
  },
  {
   "cell_type": "code",
   "execution_count": 4,
   "metadata": {},
   "outputs": [],
   "source": [
    "# compile models\n",
    "model_func_1 = models.build_roberta_dense\n",
    "model_1 = model_func_1(transformer_1, tf.keras.optimizers.Adam(1e-5), tf.keras.losses.BinaryCrossentropy(), tf.keras.metrics.BinaryAccuracy())\n",
    "\n",
    "model_func_2 = models.build_roberta_concat_dense\n",
    "model_2 = model_func_2(transformer_2,tf.keras.optimizers.Adam(1e-5), tf.keras.losses.BinaryCrossentropy(), tf.keras.metrics.BinaryAccuracy())"
   ]
  },
  {
   "cell_type": "code",
   "execution_count": 5,
   "metadata": {},
   "outputs": [],
   "source": [
    "model_3 = models.roberta_dense(transformer_3)\n",
    "model_3.compile(tf.keras.optimizers.Adam(1e-5), tf.keras.losses.BinaryCrossentropy(), tf.keras.metrics.BinaryAccuracy())"
   ]
  },
  {
   "cell_type": "code",
   "execution_count": 6,
   "metadata": {},
   "outputs": [
    {
     "data": {
      "text/plain": [
       "<tensorflow.python.training.tracking.util.CheckpointLoadStatus at 0x203ff937e48>"
      ]
     },
     "execution_count": 6,
     "metadata": {},
     "output_type": "execute_result"
    }
   ],
   "source": [
    "# load pretrained model weights\n",
    "weights_dir_1 = CHECKPT_DIR + '\\\\distilroberta-base-build_roberta_dense\\\\20200520-172144' \n",
    "model_1.load_weights(weights_dir_1)\n",
    "\n",
    "weights_dir_2 = CHECKPT_DIR + '\\\\distilroberta-base-build_roberta_concat_dense\\\\20200521-010940' \n",
    "model_2.load_weights(weights_dir_2)\n"
   ]
  },
  {
   "cell_type": "code",
   "execution_count": 7,
   "metadata": {},
   "outputs": [
    {
     "data": {
      "text/plain": [
       "<tensorflow.python.training.tracking.util.CheckpointLoadStatus at 0x203ffb9cf08>"
      ]
     },
     "execution_count": 7,
     "metadata": {},
     "output_type": "execute_result"
    }
   ],
   "source": [
    "weights_dir_3 = CHECKPT_DIR + '\\\\distilroberta-base-roberta_dense\\\\20200523-151605' \n",
    "model_3.load_weights(weights_dir_3)"
   ]
  },
  {
   "cell_type": "code",
   "execution_count": 91,
   "metadata": {},
   "outputs": [],
   "source": [
    "# load and preprocess validation data\n",
    "tokenizer = transformers.AutoTokenizer.from_pretrained(MODEL)\n",
    "train_raw = pd.read_csv(os.path.join(DATA_DIR,'jigsaw-toxic-comment-train-processed-seqlen128.csv.zip'))\n",
    "reduced_train = pd.concat([train_raw.query('toxic==0').sample(60000,random_state=1),\n",
    "                           train_raw.query('toxic==1')]).sample(frac=1)\n",
    "x_train = batch_encode(reduced_train.comment_text.values, tokenizer, max_len = models.MAX_LEN)\n",
    "y_train = reduced_train.toxic.values\n",
    "\n",
    "validation_raw = pd.read_csv(os.path.join(DATA_DIR,'validation.csv.zip'))\n",
    "x_validate = batch_encode(validation_raw.comment_text.values,tokenizer, max_len = models.MAX_LEN)\n",
    "y_validate = validation_raw.toxic.values\n",
    "\n",
    "test_raw = pd.read_csv(os.path.join(DATA_DIR,'test.csv.zip'))\n"
   ]
  },
  {
   "cell_type": "code",
   "execution_count": 87,
   "metadata": {},
   "outputs": [
    {
     "data": {
      "text/plain": [
       "(8000,)"
      ]
     },
     "execution_count": 87,
     "metadata": {},
     "output_type": "execute_result"
    }
   ],
   "source": [
    "validation_raw.lang.unique()\n",
    "validation_raw.lang.values.shape"
   ]
  },
  {
   "cell_type": "code",
   "execution_count": 93,
   "metadata": {},
   "outputs": [
    {
     "data": {
      "text/plain": [
       "array(['tr', 'ru', 'it', 'fr', 'pt', 'es'], dtype=object)"
      ]
     },
     "execution_count": 93,
     "metadata": {},
     "output_type": "execute_result"
    }
   ],
   "source": [
    "test_raw.lang.unique()"
   ]
  },
  {
   "cell_type": "code",
   "execution_count": 9,
   "metadata": {},
   "outputs": [],
   "source": [
    "validate_dataset = (tf.data.Dataset.from_tensor_slices((x_validate,y_validate))\n",
    "                    .batch(BATCH_SIZE)\n",
    "                    .prefetch(-1))"
   ]
  },
  {
   "cell_type": "code",
   "execution_count": 10,
   "metadata": {},
   "outputs": [],
   "source": [
    "# make predictions\n",
    "model_1_pred = model_1.predict(validate_dataset)\n",
    "model_2_pred = model_2.predict(validate_dataset)\n",
    "model_3_pred = model_3.predict(validate_dataset)"
   ]
  },
  {
   "cell_type": "code",
   "execution_count": 11,
   "metadata": {},
   "outputs": [
    {
     "name": "stdout",
     "output_type": "stream",
     "text": [
      "Model 1 AUC:0.6988505721092224 | Model 2 AUC: 0.6624488830566406 | Model 3 AUC: 0.6896920204162598\n",
      "Model 1 ACC:0.846875011920929 | Model 2 ACC: 0.8478749990463257 | Model 3 ACC: 0.8466249704360962\n"
     ]
    }
   ],
   "source": [
    "# validate on validation dataset\n",
    "auc_metric =  tf.keras.metrics.AUC(num_thresholds=200)\n",
    "auc_metric.reset_states()\n",
    "_ = auc_metric.update_state(y_validate,model_1_pred.squeeze())\n",
    "model_1_auc = auc_metric.result().numpy()\n",
    "auc_metric.reset_states()\n",
    "_ = auc_metric.update_state(y_validate,model_2_pred.squeeze())\n",
    "model_2_auc = auc_metric.result().numpy()\n",
    "auc_metric.reset_states()\n",
    "_ = auc_metric.update_state(y_validate,model_3_pred.squeeze())\n",
    "model_3_auc = auc_metric.result().numpy()\n",
    "\n",
    "\n",
    "\n",
    "\n",
    "accuracy_metric = tf.keras.metrics.BinaryAccuracy()\n",
    "accuracy_metric.update_state(y_validate,model_1_pred.squeeze())\n",
    "model_1_acc = accuracy_metric.result().numpy()\n",
    "accuracy_metric.reset_states()\n",
    "_ = accuracy_metric.update_state(y_validate,model_2_pred.squeeze())\n",
    "model_2_acc = accuracy_metric.result().numpy()\n",
    "accuracy_metric.reset_states()\n",
    "_ = accuracy_metric.update_state(y_validate,model_3_pred.squeeze())\n",
    "model_3_acc = accuracy_metric.result().numpy()\n",
    "\n",
    "print(f\"Model 1 AUC:{model_1_auc} | Model 2 AUC: {model_2_auc} | Model 3 AUC: {model_3_auc}\")\n",
    "print(f\"Model 1 ACC:{model_1_acc} | Model 2 ACC: {model_2_acc} | Model 3 ACC: {model_3_acc}\")\n"
   ]
  },
  {
   "cell_type": "code",
   "execution_count": 30,
   "metadata": {},
   "outputs": [
    {
     "data": {
      "text/plain": [
       "array([[    0,   381,  6526,   201,   257,  7718, 10265,   579,  9071,\n",
       "        16432,   784,  4308,   102,  1076,   910, 12379,   263,  1437,\n",
       "         1437,  1437,   259,  2359,  1437,  1437,   479,  7879,  4600,\n",
       "          326, 13688,   263,  1943,  5272,  6821,  2677,   991,  2102,\n",
       "         1177,   897, 43947, 12921,   102,  3840,  9695,  8685,   271,\n",
       "         2628,  1076,  1916,  1423,  6505, 24969,    10,  5489,  3938,\n",
       "        22734,  9697,  5679,  9488,   242,  2628, 36460,   118,  2727,\n",
       "            4,  1437,  1437,  1437,  4058, 11387,  3104,   179,   820,\n",
       "        38740,  1437,  1437, 11403,     6,  7398,   368,     6,  2084,\n",
       "         7984,   625,     4,  1437,  1437,  1437,  1437,  1437,   601,\n",
       "           35,  3818,   508,  4401,  2266,    36, 41934,    43,     2,\n",
       "            1,     1,     1,     1,     1,     1,     1,     1,     1,\n",
       "            1,     1,     1,     1,     1,     1,     1,     1,     1,\n",
       "            1,     1,     1,     1,     1,     1,     1,     1,     1,\n",
       "            1,     1]])"
      ]
     },
     "execution_count": 30,
     "metadata": {},
     "output_type": "execute_result"
    }
   ],
   "source": [
    "xv = np.array(x_validate)\n",
    "xv.shape\n",
    "xv[0,None]"
   ]
  },
  {
   "cell_type": "code",
   "execution_count": 52,
   "metadata": {},
   "outputs": [
    {
     "name": "stdout",
     "output_type": "stream",
     "text": [
      "Tensor(\"input_7:0\", shape=(None, 128), dtype=int32)\n"
     ]
    },
    {
     "data": {
      "text/plain": [
       "<tensorflow.python.keras.engine.training.Model at 0x2040fab8208>"
      ]
     },
     "execution_count": 52,
     "metadata": {},
     "output_type": "execute_result"
    }
   ],
   "source": [
    "inp = tf.keras.layers.Input(shape=(models.MAX_LEN,),dtype=tf.int32)\n",
    "print(inp)\n",
    "out = transformer_3(inp, training=False)[0][:,0,:]\n",
    "emb_model = tf.keras.Model(inputs=inp, outputs=out)\n",
    "emb_model.compile()\n",
    "emb_model"
   ]
  },
  {
   "cell_type": "code",
   "execution_count": 55,
   "metadata": {},
   "outputs": [],
   "source": [
    "rs = emb_model.predict(validate_dataset)\n"
   ]
  },
  {
   "cell_type": "code",
   "execution_count": 57,
   "metadata": {},
   "outputs": [
    {
     "data": {
      "text/plain": [
       "(8000, 768)"
      ]
     },
     "execution_count": 57,
     "metadata": {},
     "output_type": "execute_result"
    }
   ],
   "source": [
    "rs.shape"
   ]
  },
  {
   "cell_type": "code",
   "execution_count": 58,
   "metadata": {},
   "outputs": [],
   "source": [
    "from sklearn import manifold\n",
    "tsne = sklearn.manifold.TSNE(n_components=2, init='pca', random_state=1)\n",
    "X_tsne = tsne.fit_transform(rs)"
   ]
  },
  {
   "cell_type": "code",
   "execution_count": 88,
   "metadata": {},
   "outputs": [],
   "source": [
    "x_min, x_max = X_tsne.min(0), X_tsne.max(0)\n",
    "X_norm = (X_tsne - x_min) / (x_max - x_min)\n",
    "\n",
    "tsne_data = np.concatenate((X_norm, y_validate[:,None],validation_raw.lang.values[:,None]),axis=-1)\n"
   ]
  },
  {
   "cell_type": "code",
   "execution_count": 89,
   "metadata": {},
   "outputs": [
    {
     "data": {
      "image/png": "[encoded data removed]",
      "text/plain": [
       "<Figure size 432x288 with 1 Axes>"
      ]
     },
     "metadata": {
      "needs_background": "light"
     },
     "output_type": "display_data"
    }
   ],
   "source": [
    "lang_dict = {'es':0,'it':1,'tr':2}\n",
    "fig, ax = plt.subplots()\n",
    "\n",
    "for i in tsne_data:\n",
    "    ax.plot(i[0],i[1],'.',color=plt.cm.Set1(lang_dict[i[3]]))\n",
    "plt.show()"
   ]
  },
  {
   "cell_type": "code",
   "execution_count": 105,
   "metadata": {},
   "outputs": [
    {
     "name": "stdout",
     "output_type": "stream",
     "text": [
      "(768, 1)\n",
      "(1,)\n"
     ]
    }
   ],
   "source": [
    "w = model_3.dense_layer.weights\n",
    "print(w[0].numpy().shape)\n",
    "print(w[1].numpy().shape)"
   ]
  },
  {
   "cell_type": "code",
   "execution_count": 106,
   "metadata": {},
   "outputs": [
    {
     "data": {
      "text/plain": [
       "<tf.Variable 'roberta_dense/dense_3/bias:0' shape=(1,) dtype=float32, numpy=array([-0.00055382], dtype=float32)>"
      ]
     },
     "execution_count": 106,
     "metadata": {},
     "output_type": "execute_result"
    }
   ],
   "source": [
    "w[1]"
   ]
  },
  {
   "cell_type": "code",
   "execution_count": 107,
   "metadata": {},
   "outputs": [
    {
     "data": {
      "text/plain": [
       "['_TF_MODULE_IGNORED_PROPERTIES',\n",
       " '__call__',\n",
       " '__class__',\n",
       " '__delattr__',\n",
       " '__dict__',\n",
       " '__dir__',\n",
       " '__doc__',\n",
       " '__eq__',\n",
       " '__format__',\n",
       " '__ge__',\n",
       " '__getattribute__',\n",
       " '__getstate__',\n",
       " '__gt__',\n",
       " '__hash__',\n",
       " '__init__',\n",
       " '__init_subclass__',\n",
       " '__le__',\n",
       " '__lt__',\n",
       " '__module__',\n",
       " '__ne__',\n",
       " '__new__',\n",
       " '__reduce__',\n",
       " '__reduce_ex__',\n",
       " '__repr__',\n",
       " '__setattr__',\n",
       " '__setstate__',\n",
       " '__sizeof__',\n",
       " '__str__',\n",
       " '__subclasshook__',\n",
       " '__weakref__',\n",
       " '_activity_regularizer',\n",
       " '_add_inbound_node',\n",
       " '_add_trackable',\n",
       " '_add_variable_with_custom_getter',\n",
       " '_attribute_sentinel',\n",
       " '_auto_track_sub_layers',\n",
       " '_autocast',\n",
       " '_build_input_shape',\n",
       " '_call_accepts_kwargs',\n",
       " '_call_arg_was_passed',\n",
       " '_call_fn_args',\n",
       " '_call_full_argspec',\n",
       " '_callable_losses',\n",
       " '_checkpoint_dependencies',\n",
       " '_clear_losses',\n",
       " '_collect_input_masks',\n",
       " '_compute_dtype',\n",
       " '_dedup_weights',\n",
       " '_deferred_dependencies',\n",
       " '_dtype',\n",
       " '_dtype_defaulted_to_floatx',\n",
       " '_dtype_policy',\n",
       " '_dynamic',\n",
       " '_eager_add_metric',\n",
       " '_eager_losses',\n",
       " '_expects_mask_arg',\n",
       " '_expects_training_arg',\n",
       " '_flatten',\n",
       " '_gather_children_attribute',\n",
       " '_gather_layers',\n",
       " '_gather_saveables_for_checkpoint',\n",
       " '_gather_unique_layers',\n",
       " '_get_call_arg_value',\n",
       " '_get_existing_metric',\n",
       " '_get_node_attribute_at_index',\n",
       " '_get_trainable_state',\n",
       " '_handle_activity_regularization',\n",
       " '_handle_deferred_dependencies',\n",
       " '_handle_weight_regularization',\n",
       " '_inbound_nodes',\n",
       " '_init_call_fn_args',\n",
       " '_init_set_name',\n",
       " '_initial_weights',\n",
       " '_input_spec',\n",
       " '_is_layer',\n",
       " '_keras_api_names',\n",
       " '_keras_api_names_v1',\n",
       " '_layers',\n",
       " '_list_extra_dependencies_for_serialization',\n",
       " '_list_functions_for_serialization',\n",
       " '_lookup_dependency',\n",
       " '_losses',\n",
       " '_maybe_build',\n",
       " '_maybe_cast_inputs',\n",
       " '_maybe_create_attribute',\n",
       " '_maybe_initialize_trackable',\n",
       " '_metrics',\n",
       " '_metrics_lock',\n",
       " '_name',\n",
       " '_name_based_attribute_restore',\n",
       " '_name_based_restores',\n",
       " '_name_scope',\n",
       " '_no_dependency',\n",
       " '_non_trainable_weights',\n",
       " '_obj_reference_counts',\n",
       " '_obj_reference_counts_dict',\n",
       " '_object_identifier',\n",
       " '_outbound_nodes',\n",
       " '_preload_simple_restoration',\n",
       " '_restore_from_checkpoint_position',\n",
       " '_self_name_based_restores',\n",
       " '_self_setattr_tracking',\n",
       " '_self_unconditional_checkpoint_dependencies',\n",
       " '_self_unconditional_deferred_dependencies',\n",
       " '_self_unconditional_dependency_names',\n",
       " '_self_update_uid',\n",
       " '_set_connectivity_metadata_',\n",
       " '_set_dtype_policy',\n",
       " '_set_mask_metadata',\n",
       " '_set_trainable_state',\n",
       " '_setattr_tracking',\n",
       " '_should_compute_mask',\n",
       " '_single_restoration_from_checkpoint_position',\n",
       " '_stateful',\n",
       " '_supports_ragged_inputs',\n",
       " '_symbolic_add_metric',\n",
       " '_symbolic_call',\n",
       " '_tf_api_names',\n",
       " '_tf_api_names_v1',\n",
       " '_thread_local',\n",
       " '_track_trackable',\n",
       " '_trackable_saved_model_saver',\n",
       " '_tracking_metadata',\n",
       " '_trainable',\n",
       " '_trainable_weights',\n",
       " '_unconditional_checkpoint_dependencies',\n",
       " '_unconditional_dependency_names',\n",
       " '_update_uid',\n",
       " '_updates',\n",
       " '_warn_about_input_casting',\n",
       " 'activation',\n",
       " 'activity_regularizer',\n",
       " 'add_loss',\n",
       " 'add_metric',\n",
       " 'add_update',\n",
       " 'add_variable',\n",
       " 'add_weight',\n",
       " 'apply',\n",
       " 'bias',\n",
       " 'bias_constraint',\n",
       " 'bias_initializer',\n",
       " 'bias_regularizer',\n",
       " 'build',\n",
       " 'built',\n",
       " 'call',\n",
       " 'compute_mask',\n",
       " 'compute_output_shape',\n",
       " 'compute_output_signature',\n",
       " 'count_params',\n",
       " 'dtype',\n",
       " 'dynamic',\n",
       " 'from_config',\n",
       " 'get_config',\n",
       " 'get_input_at',\n",
       " 'get_input_mask_at',\n",
       " 'get_input_shape_at',\n",
       " 'get_losses_for',\n",
       " 'get_output_at',\n",
       " 'get_output_mask_at',\n",
       " 'get_output_shape_at',\n",
       " 'get_updates_for',\n",
       " 'get_weights',\n",
       " 'inbound_nodes',\n",
       " 'input',\n",
       " 'input_mask',\n",
       " 'input_shape',\n",
       " 'input_spec',\n",
       " 'kernel',\n",
       " 'kernel_constraint',\n",
       " 'kernel_initializer',\n",
       " 'kernel_regularizer',\n",
       " 'losses',\n",
       " 'metrics',\n",
       " 'name',\n",
       " 'name_scope',\n",
       " 'non_trainable_variables',\n",
       " 'non_trainable_weights',\n",
       " 'outbound_nodes',\n",
       " 'output',\n",
       " 'output_mask',\n",
       " 'output_shape',\n",
       " 'set_weights',\n",
       " 'stateful',\n",
       " 'submodules',\n",
       " 'supports_masking',\n",
       " 'trainable',\n",
       " 'trainable_variables',\n",
       " 'trainable_weights',\n",
       " 'units',\n",
       " 'updates',\n",
       " 'use_bias',\n",
       " 'variables',\n",
       " 'weights',\n",
       " 'with_name_scope']"
      ]
     },
     "execution_count": 107,
     "metadata": {},
     "output_type": "execute_result"
    }
   ],
   "source": [
    "dir(model_3.dense_layer)"
   ]
  },
  {
   "cell_type": "code",
   "execution_count": 113,
   "metadata": {},
   "outputs": [
    {
     "data": {
      "text/plain": [
       "<tensorflow.python.keras.layers.core.Dense at 0x202f1852688>"
      ]
     },
     "execution_count": 113,
     "metadata": {},
     "output_type": "execute_result"
    }
   ],
   "source": [
    "model_3.dense_layer"
   ]
  },
  {
   "cell_type": "code",
   "execution_count": 136,
   "metadata": {},
   "outputs": [],
   "source": [
    "dense = tf.keras.layers.Dense(1,activation='sigmoid',weights=model_3.dense_layer.get_weights())"
   ]
  },
  {
   "cell_type": "code",
   "execution_count": 150,
   "metadata": {},
   "outputs": [],
   "source": [
    "dense.build((768,))"
   ]
  },
  {
   "cell_type": "code",
   "execution_count": 154,
   "metadata": {},
   "outputs": [
    {
     "data": {
      "text/plain": [
       "array([-0.00055382], dtype=float32)"
      ]
     },
     "execution_count": 154,
     "metadata": {},
     "output_type": "execute_result"
    }
   ],
   "source": [
    "dense.set_weights(model_3.dense_layer.get_weights())\n",
    "dense.get_weights()[1]"
   ]
  },
  {
   "cell_type": "code",
   "execution_count": 118,
   "metadata": {},
   "outputs": [
    {
     "data": {
      "text/plain": [
       "{'name': 'dense_3',\n",
       " 'trainable': True,\n",
       " 'dtype': 'float32',\n",
       " 'units': 1,\n",
       " 'activation': 'sigmoid',\n",
       " 'use_bias': True,\n",
       " 'kernel_initializer': {'class_name': 'GlorotUniform',\n",
       "  'config': {'seed': None}},\n",
       " 'bias_initializer': {'class_name': 'Zeros', 'config': {}},\n",
       " 'kernel_regularizer': None,\n",
       " 'bias_regularizer': None,\n",
       " 'activity_regularizer': None,\n",
       " 'kernel_constraint': None,\n",
       " 'bias_constraint': None}"
      ]
     },
     "execution_count": 118,
     "metadata": {},
     "output_type": "execute_result"
    }
   ],
   "source": [
    "model_3.dense_layer.get_config()"
   ]
  },
  {
   "cell_type": "code",
   "execution_count": null,
   "metadata": {},
   "outputs": [],
   "source": [
    "des"
   ]
  }
 ],
 "metadata": {
  "kernelspec": {
   "display_name": "Python 3",
   "language": "python",
   "name": "python3"
  },
  "language_info": {
   "codemirror_mode": {
    "name": "ipython",
    "version": 3
   },
   "file_extension": ".py",
   "mimetype": "text/x-python",
   "name": "python",
   "nbconvert_exporter": "python",
   "pygments_lexer": "ipython3",
   "version": "3.7.7"
  }
 },
 "nbformat": 4,
 "nbformat_minor": 4
}
