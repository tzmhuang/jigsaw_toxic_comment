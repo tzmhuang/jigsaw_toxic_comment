{
 "cells": [
  {
   "cell_type": "code",
   "execution_count": 1,
   "metadata": {},
   "outputs": [],
   "source": [
    "import sys\n",
    "import os\n",
    "import numpy as np\n",
    "import pandas as pd\n",
    "import transformers\n",
    "import tensorflow as tf\n",
    "import matplotlib.pyplot as plt\n",
    "import datetime\n",
    "ROOT = os.path.abspath('../')\n",
    "sys.path.append(ROOT)\n",
    "import models\n",
    "from util import *\n",
    "from sklearn import manifold\n",
    "import re\n",
    "import itertools"
   ]
  },
  {
   "cell_type": "code",
   "execution_count": 2,
   "metadata": {},
   "outputs": [],
   "source": [
    "# import importlib\n",
    "# importlib.reload(models)"
   ]
  },
  {
   "cell_type": "code",
   "execution_count": 3,
   "metadata": {},
   "outputs": [
    {
     "name": "stdout",
     "output_type": "stream",
     "text": [
      "Wall time: 1.98 ms\n"
     ]
    }
   ],
   "source": [
    "%%time\n",
    "DATA_DIR = os.path.join(ROOT,'data')\n",
    "MODEL_DIR = os.path.join(ROOT,'models')\n",
    "LOG_DIR = os.path.join(ROOT,'logs')\n",
    "CHECKPT_DIR = os.path.join(LOG_DIR,'checkpoints')\n",
    "ENCODE_DIR = os.path.join(LOG_DIR,'encodings')\n",
    "# MODEL = 'jplu/tf-xlm-roberta-base' \n",
    "# MODEL = 'distilroberta-base' \n",
    "MODEL = 'distilbert-base-multilingual-cased'\n",
    "N_EPOCHS = 2\n",
    "BATCH_SIZE = 32\n",
    "tf.keras.backend.clear_session()\n"
   ]
  },
  {
   "cell_type": "code",
   "execution_count": 4,
   "metadata": {},
   "outputs": [
    {
     "name": "stdout",
     "output_type": "stream",
     "text": [
      "Wall time: 8.29 s\n"
     ]
    }
   ],
   "source": [
    "%%time\n",
    "LOAD_ENCODING = True\n",
    "SAVE_ENCODING = False\n",
    "CLEAN = True\n",
    "FILE_NAME = ENCODE_DIR+'\\\\{0}_encoding_clean_lower.npy'.format(MODEL.replace('/','-'))\n",
    "\n",
    "if LOAD_ENCODING:\n",
    "    with open(FILE_NAME,'rb') as f:\n",
    "        x_train=np.load(f)\n",
    "        y_train=np.load(f)\n",
    "        x_validate=np.load(f)\n",
    "        y_validate=np.load(f)\n",
    "        x_test=np.load(f)\n",
    "else:\n",
    "    ## Load Data\n",
    "    train_raw = pd.read_csv(os.path.join(DATA_DIR,'jigsaw-toxic-comment-train-processed-seqlen128.csv.zip'))\n",
    "    train = pd.concat([train_raw.query('toxic==0').sample(60000,random_state=1),\n",
    "                               train_raw.query('toxic==1')]).sample(frac=1)\n",
    "    validation_data = pd.read_csv(os.path.join(DATA_DIR,'validation.csv.zip'))\n",
    "    test_data = pd.read_csv(os.path.join(DATA_DIR,'test.csv.zip'))\n",
    "    if CLEAN:\n",
    "        train.comment_text = train.comment_text.apply(clean_text)\n",
    "        test_data.content = test_data.content.apply(clean_text)\n",
    "        validation_data.comment_text = validation_data.comment_text.apply(clean_text)\n",
    "    ## Data encoding\n",
    "    tokenizer = transformers.AutoTokenizer.from_pretrained(MODEL)\n",
    "    x_train = batch_encode(train.comment_text.values,tokenizer, max_len =  models.MAX_LEN)\n",
    "    x_validate = batch_encode(validation_data.comment_text.values,tokenizer, max_len =  models.MAX_LEN)\n",
    "    x_test = batch_encode(test_data.content.values,tokenizer, max_len =  models.MAX_LEN)\n",
    "    y_train = train.toxic.values\n",
    "    y_validate = validation_data.toxic.values\n",
    "    # Free memory\n",
    "    del(train_raw, train, validation_data,test_data)\n",
    "    if SAVE_ENCODING:\n",
    "        x_train_enc = np.array(x_train)\n",
    "        y_train_enc = np.array(y_train)\n",
    "        x_validate_enc = np.array(x_validate)\n",
    "        y_validate_enc = np.array(y_validate)\n",
    "        x_test_enc = np.array(x_test)\n",
    "        with open(FILE_NAME,'wb') as f:\n",
    "            np.save(f, x_train_enc)\n",
    "            np.save(f, y_train_enc)\n",
    "            np.save(f, x_validate_enc)\n",
    "            np.save(f, y_validate_enc)\n",
    "            np.save(f, x_test_enc)"
   ]
  },
  {
   "cell_type": "code",
   "execution_count": 5,
   "metadata": {},
   "outputs": [
    {
     "name": "stdout",
     "output_type": "stream",
     "text": [
      "Wall time: 1.02 s\n"
     ]
    }
   ],
   "source": [
    "%%time\n",
    "train_dataset = (tf.data.Dataset.from_tensor_slices((x_train,y_train))\n",
    "                 .repeat(1)\n",
    "                 .shuffle(2048)\n",
    "                 .batch(BATCH_SIZE)\n",
    "                 .prefetch(-1))\n",
    "\n",
    "validate_dataset = (tf.data.Dataset.from_tensor_slices((x_validate,y_validate))\n",
    "                    .batch(BATCH_SIZE)\n",
    "                    .prefetch(-1))\n",
    "\n",
    "test_dataset = (tf.data.Dataset.from_tensor_slices(x_test)\n",
    "               .batch(BATCH_SIZE)\n",
    "               .prefetch(-1))\n",
    "# Free Space\n",
    "del(x_train,y_train,x_validate,y_validate,x_test)"
   ]
  },
  {
   "cell_type": "code",
   "execution_count": 6,
   "metadata": {},
   "outputs": [
    {
     "name": "stdout",
     "output_type": "stream",
     "text": [
      "Wall time: 3.07 s\n"
     ]
    }
   ],
   "source": [
    "%%time\n",
    "config = transformers.AutoConfig.from_pretrained(MODEL,output_hidden_states=True)\n",
    "transformer = transformers.TFAutoModel.from_pretrained(MODEL,config=config)\n",
    "model = models.distilbert_hs_mean_max_min_dense(transformer)\n",
    "model.compile(tf.keras.optimizers.Adam(1e-5), tf.keras.losses.BinaryCrossentropy(label_smoothing=0.1), \n",
    "              metrics=[tf.keras.metrics.BinaryAccuracy(),tf.keras.metrics.AUC()])\n"
   ]
  },
  {
   "cell_type": "code",
   "execution_count": 7,
   "metadata": {
    "scrolled": false
   },
   "outputs": [
    {
     "name": "stdout",
     "output_type": "stream",
     "text": [
      "Epoch 1/10\n",
      "19/19 [==============================] - ETA: 0s - loss: 0.6249 - binary_accuracy: 0.6750 - auc: 0.5716LOGS:  {'loss': 0.6248805522918701, 'binary_accuracy': 0.675000011920929, 'auc': 0.5716280937194824, 'val_loss': 0.5868601202964783, 'val_binary_accuracy': 0.800000011920929, 'val_auc': 0.6904761791229248}\n",
      "19/19 [==============================] - 22s 1s/step - loss: 0.6249 - binary_accuracy: 0.6750 - auc: 0.5716 - val_loss: 0.5869 - val_binary_accuracy: 0.8000 - val_auc: 0.6905 - val_additionalloss: 0.0000e+00 - val_additionalbinary_accuracy: 0.0000e+00 - val_additionalauc: 0.0000e+00\n",
      "Epoch 2/10\n",
      "19/19 [==============================] - ETA: 0s - loss: 0.5493 - binary_accuracy: 0.7450 - auc: 0.7519LOGS:  {'loss': 0.5493380427360535, 'binary_accuracy': 0.7450000047683716, 'auc': 0.7518981099128723, 'val_loss': 0.5501695871353149, 'val_binary_accuracy': 0.8999999761581421, 'val_auc': 0.8095238208770752}\n",
      "19/19 [==============================] - 19s 1s/step - loss: 0.5493 - binary_accuracy: 0.7450 - auc: 0.7519 - val_loss: 0.5502 - val_binary_accuracy: 0.9000 - val_auc: 0.8095 - val_additionalloss: 0.0000e+00 - val_additionalbinary_accuracy: 0.0000e+00 - val_additionalauc: 0.0000e+00\n",
      "Epoch 3/10\n",
      "19/19 [==============================] - ETA: 0s - loss: 0.5137 - binary_accuracy: 0.7833 - auc: 0.8052LOGS:  {'loss': 0.5136741399765015, 'binary_accuracy': 0.7833333611488342, 'auc': 0.8051749467849731, 'val_loss': 0.6397557258605957, 'val_binary_accuracy': 0.6000000238418579, 'val_auc': 0.7142857313156128}\n",
      "19/19 [==============================] - 19s 1s/step - loss: 0.5137 - binary_accuracy: 0.7833 - auc: 0.8052 - val_loss: 0.6398 - val_binary_accuracy: 0.6000 - val_auc: 0.7143 - val_additionalloss: 0.0000e+00 - val_additionalbinary_accuracy: 0.0000e+00 - val_additionalauc: 0.0000e+00\n",
      "Epoch 4/10\n",
      "19/19 [==============================] - ETA: 0s - loss: 0.4594 - binary_accuracy: 0.8183 - auc: 0.8786LOGS:  {'loss': 0.45943644642829895, 'binary_accuracy': 0.8183333277702332, 'auc': 0.8785938024520874, 'val_loss': 0.5485170483589172, 'val_binary_accuracy': 0.800000011920929, 'val_auc': 0.8095237612724304}\n",
      "19/19 [==============================] - 20s 1s/step - loss: 0.4594 - binary_accuracy: 0.8183 - auc: 0.8786 - val_loss: 0.5485 - val_binary_accuracy: 0.8000 - val_auc: 0.8095 - val_additionalloss: 0.0000e+00 - val_additionalbinary_accuracy: 0.0000e+00 - val_additionalauc: 0.0000e+00\n",
      "Epoch 5/10\n",
      "19/19 [==============================] - ETA: 0s - loss: 0.3994 - binary_accuracy: 0.8633 - auc: 0.9297LOGS:  {'loss': 0.399431049823761, 'binary_accuracy': 0.8633333444595337, 'auc': 0.9296994805335999, 'val_loss': 0.6774038076400757, 'val_binary_accuracy': 0.6000000238418579, 'val_auc': 0.7142857313156128}\n",
      "19/19 [==============================] - 20s 1s/step - loss: 0.3994 - binary_accuracy: 0.8633 - auc: 0.9297 - val_loss: 0.6774 - val_binary_accuracy: 0.6000 - val_auc: 0.7143 - val_additionalloss: 0.0000e+00 - val_additionalbinary_accuracy: 0.0000e+00 - val_additionalauc: 0.0000e+00\n",
      "Epoch 6/10\n",
      "19/19 [==============================] - ETA: 0s - loss: 0.3792 - binary_accuracy: 0.8967 - auc: 0.9412LOGS:  {'loss': 0.37917229533195496, 'binary_accuracy': 0.8966666460037231, 'auc': 0.9412330389022827, 'val_loss': 0.5959131121635437, 'val_binary_accuracy': 0.699999988079071, 'val_auc': 0.714285671710968}\n",
      "19/19 [==============================] - 20s 1s/step - loss: 0.3792 - binary_accuracy: 0.8967 - auc: 0.9412 - val_loss: 0.5959 - val_binary_accuracy: 0.7000 - val_auc: 0.7143 - val_additionalloss: 0.0000e+00 - val_additionalbinary_accuracy: 0.0000e+00 - val_additionalauc: 0.0000e+00\n",
      "Epoch 7/10\n",
      "19/19 [==============================] - ETA: 0s - loss: 0.3154 - binary_accuracy: 0.9267 - auc: 0.9802LOGS:  {'loss': 0.31543055176734924, 'binary_accuracy': 0.9266666769981384, 'auc': 0.9801896810531616, 'val_loss': 0.5702627897262573, 'val_binary_accuracy': 0.6000000238418579, 'val_auc': 0.7619047164916992}\n",
      "19/19 [==============================] - 20s 1s/step - loss: 0.3154 - binary_accuracy: 0.9267 - auc: 0.9802 - val_loss: 0.5703 - val_binary_accuracy: 0.6000 - val_auc: 0.7619 - val_additionalloss: 0.0000e+00 - val_additionalbinary_accuracy: 0.0000e+00 - val_additionalauc: 0.0000e+00\n",
      "Epoch 8/10\n",
      "19/19 [==============================] - ETA: 0s - loss: 0.2953 - binary_accuracy: 0.9467 - auc: 0.9880LOGS:  {'loss': 0.2952987253665924, 'binary_accuracy': 0.9466666579246521, 'auc': 0.9879893660545349, 'val_loss': 0.5431351661682129, 'val_binary_accuracy': 0.800000011920929, 'val_auc': 0.7619047164916992}\n",
      "19/19 [==============================] - 19s 1s/step - loss: 0.2953 - binary_accuracy: 0.9467 - auc: 0.9880 - val_loss: 0.5431 - val_binary_accuracy: 0.8000 - val_auc: 0.7619 - val_additionalloss: 0.0000e+00 - val_additionalbinary_accuracy: 0.0000e+00 - val_additionalauc: 0.0000e+00\n",
      "Epoch 9/10\n",
      "19/19 [==============================] - ETA: 0s - loss: 0.2735 - binary_accuracy: 0.9633 - auc: 0.9934LOGS:  {'loss': 0.2735341489315033, 'binary_accuracy': 0.9633333086967468, 'auc': 0.9933897256851196, 'val_loss': 0.5542909502983093, 'val_binary_accuracy': 0.699999988079071, 'val_auc': 0.714285671710968}\n",
      "19/19 [==============================] - 19s 1s/step - loss: 0.2735 - binary_accuracy: 0.9633 - auc: 0.9934 - val_loss: 0.5543 - val_binary_accuracy: 0.7000 - val_auc: 0.7143 - val_additionalloss: 0.0000e+00 - val_additionalbinary_accuracy: 0.0000e+00 - val_additionalauc: 0.0000e+00\n",
      "Epoch 10/10\n",
      "19/19 [==============================] - ETA: 0s - loss: 0.2444 - binary_accuracy: 0.9800 - auc: 0.9985LOGS:  {'loss': 0.24444684386253357, 'binary_accuracy': 0.9800000190734863, 'auc': 0.9984925985336304, 'val_loss': 0.5564947128295898, 'val_binary_accuracy': 0.6000000238418579, 'val_auc': 0.714285671710968}\n",
      "19/19 [==============================] - 19s 1s/step - loss: 0.2444 - binary_accuracy: 0.9800 - auc: 0.9985 - val_loss: 0.5565 - val_binary_accuracy: 0.6000 - val_auc: 0.7143 - val_additionalloss: 0.0000e+00 - val_additionalbinary_accuracy: 0.0000e+00 - val_additionalauc: 0.0000e+00\n"
     ]
    }
   ],
   "source": [
    "# tensorboard setup\n",
    "log_dir = os.path.join(LOG_DIR,'fit') +'\\\\' +datetime.datetime.now().strftime(\"%Y%m%d-%H%M%S\")\n",
    "tensorboard_callback = tf.keras.callbacks.TensorBoard(log_dir=log_dir, histogram_freq=1,update_freq='batch')\n",
    "\n",
    "## Test\n",
    "# tensorboard_callback= AddtionalValidationTB(additional_validation_sets=[(test_dataset,'additional')],verbose=0,log_dir=log_dir, histogram_freq=1,update_freq='batch')\n",
    "# training\n",
    "train_hist = model.fit(train_dataset,validation_data=validate_dataset,epochs=10,callbacks=[tensorboard_callback])"
   ]
  },
  {
   "cell_type": "code",
   "execution_count": 7,
   "metadata": {},
   "outputs": [
    {
     "name": "stdout",
     "output_type": "stream",
     "text": [
      "1/1 [==============================] - 0s 998us/step - loss: 0.5815 - binary_accuracy: 0.7000 - auc: 0.8333\n"
     ]
    },
    {
     "data": {
      "text/plain": [
       "{'loss': 0.5814746022224426,\n",
       " 'binary_accuracy': 0.699999988079071,\n",
       " 'auc': 0.8333333134651184}"
      ]
     },
     "execution_count": 7,
     "metadata": {},
     "output_type": "execute_result"
    }
   ],
   "source": [
    "model.evaluate(validate_dataset, return_dict=True)"
   ]
  },
  {
   "cell_type": "code",
   "execution_count": 8,
   "metadata": {},
   "outputs": [],
   "source": [
    "validate_predict = model.predict(validate_dataset)"
   ]
  },
  {
   "cell_type": "code",
   "execution_count": 9,
   "metadata": {},
   "outputs": [
    {
     "data": {
      "image/png": "[encoded data removed]",
      "text/plain": [
       "<Figure size 432x288 with 1 Axes>"
      ]
     },
     "metadata": {
      "needs_background": "light"
     },
     "output_type": "display_data"
    }
   ],
   "source": [
    "plt.hist(validate_predict, bins=100)\n",
    "plt.grid(True)"
   ]
  },
  {
   "cell_type": "code",
   "execution_count": 11,
   "metadata": {},
   "outputs": [],
   "source": [
    "tokenizer = transformers.AutoTokenizer.from_pretrained(MODEL)\n",
    "validation_data_en = pd.read_csv(os.path.join(DATA_DIR,'compressed_validation_en.csv.zip'))\n",
    "validation_data_en.comment_text = validation_data_en.comment_text.apply(clean_text)\n",
    "x_validate_en = batch_encode(validation_data_en.comment_text.values,tokenizer, max_len =  models.MAX_LEN)\n",
    "y_validate_en = validation_data_en.toxic.values"
   ]
  },
  {
   "cell_type": "code",
   "execution_count": 15,
   "metadata": {},
   "outputs": [
    {
     "name": "stdout",
     "output_type": "stream",
     "text": [
      "250/250 [==============================] - 32s 129ms/step\n",
      "Model 1 AUC:0.8857415914535522\n",
      "Model 1 ACC:0.8707500100135803\n"
     ]
    }
   ],
   "source": [
    "# validate on validation dataset\n",
    "model_1_pred = model.predict(x_validate_en,verbose=1)\n",
    "auc_metric =  tf.keras.metrics.AUC(num_thresholds=200)\n",
    "auc_metric.reset_states()\n",
    "_ = auc_metric.update_state(y_validate_en,model_1_pred.squeeze())\n",
    "model_1_auc = auc_metric.result().numpy()\n",
    "\n",
    "accuracy_metric = tf.keras.metrics.BinaryAccuracy()\n",
    "accuracy_metric.update_state(y_validate_en,model_1_pred.squeeze())\n",
    "model_1_acc = accuracy_metric.result().numpy()\n",
    "\n",
    "\n",
    "print(f\"Model 1 AUC:{model_1_auc}\")\n",
    "print(f\"Model 1 ACC:{model_1_acc}\")"
   ]
  },
  {
   "cell_type": "code",
   "execution_count": 16,
   "metadata": {},
   "outputs": [
    {
     "data": {
      "image/png": "[encoded data removed]",
      "text/plain": [
       "<Figure size 432x288 with 1 Axes>"
      ]
     },
     "metadata": {
      "needs_background": "light"
     },
     "output_type": "display_data"
    }
   ],
   "source": [
    "plt.hist(model_1_pred, bins=100)\n",
    "plt.grid(True)"
   ]
  },
  {
   "cell_type": "code",
   "execution_count": null,
   "metadata": {},
   "outputs": [],
   "source": []
  }
 ],
 "metadata": {
  "kernelspec": {
   "display_name": "Python 3",
   "language": "python",
   "name": "python3"
  },
  "language_info": {
   "codemirror_mode": {
    "name": "ipython",
    "version": 3
   },
   "file_extension": ".py",
   "mimetype": "text/x-python",
   "name": "python",
   "nbconvert_exporter": "python",
   "pygments_lexer": "ipython3",
   "version": "3.7.7"
  }
 },
 "nbformat": 4,
 "nbformat_minor": 4
}
