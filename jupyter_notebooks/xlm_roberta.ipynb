{
 "cells": [
  {
   "cell_type": "code",
   "execution_count": 1,
   "metadata": {},
   "outputs": [],
   "source": [
    "import sys\n",
    "import os\n",
    "import numpy as np\n",
    "import pandas as pd\n",
    "import transformers\n",
    "import tensorflow as tf\n",
    "import matplotlib.pyplot as plt\n",
    "import datetime\n",
    "ROOT = os.path.abspath('../')\n",
    "sys.path.append(ROOT)\n",
    "from util import *"
   ]
  },
  {
   "cell_type": "code",
   "execution_count": 3,
   "metadata": {
    "scrolled": false
   },
   "outputs": [],
   "source": [
    "# import importlib\n",
    "# importlib.reload(util)\n",
    "# import util\n",
    "# util.reset_keras()"
   ]
  },
  {
   "cell_type": "code",
   "execution_count": 2,
   "metadata": {},
   "outputs": [],
   "source": [
    "DATA_DIR = os.path.join(ROOT,'data')\n",
    "MODEL_DIR = os.path.join(ROOT,'models')\n",
    "LOG_DIR = os.path.join(ROOT,'logs')\n",
    "CHECKPT_DIR = os.path.join(LOG_DIR,'checkpoints')\n",
    "# MODEL = 'jplu/tf-xlm-roberta-base' \n",
    "MODEL = 'distilroberta-base' \n",
    "MAX_LEN = 128\n",
    "N_EPOCHS = 2\n",
    "BATCH_SIZE = 32\n",
    "tf.keras.backend.clear_session()"
   ]
  },
  {
   "cell_type": "markdown",
   "metadata": {},
   "source": [
    "##### Load Data"
   ]
  },
  {
   "cell_type": "code",
   "execution_count": 43,
   "metadata": {},
   "outputs": [],
   "source": [
    "train_raw = pd.read_csv(os.path.join(DATA_DIR,'jigsaw-toxic-comment-train-processed-seqlen128.csv.zip'))\n",
    "test_raw = pd.read_csv(os.path.join(DATA_DIR,'test.csv.zip'))\n",
    "validation_raw = pd.read_csv(os.path.join(DATA_DIR,'validation.csv.zip'))\n",
    "\n",
    "train_raw.comment_text = train_raw.comment_text.apply(clean_text)\n",
    "test_raw.content = test_raw.content.apply(clean_text)\n",
    "validation_raw.comment_text = validation_raw.comment_text.apply(clean_text)\n",
    "\n",
    "train = train_raw[['comment_text','toxic']]"
   ]
  },
  {
   "cell_type": "code",
   "execution_count": 44,
   "metadata": {},
   "outputs": [
    {
     "name": "stdout",
     "output_type": "stream",
     "text": [
      "Number of Toxic Comment:  21384\n",
      "Number of Non-toxic Comment:  202165\n",
      "Ratio:  0.10577498577894294\n"
     ]
    }
   ],
   "source": [
    "print('Number of Toxic Comment: ',len(train.query('toxic==1')))\n",
    "print('Number of Non-toxic Comment: ',len(train.query('toxic==0')))\n",
    "print('Ratio: ',len(train.query('toxic==1'))/len(train.query('toxic==0')))"
   ]
  },
  {
   "cell_type": "markdown",
   "metadata": {},
   "source": [
    "#### Import tokenizer and encode"
   ]
  },
  {
   "cell_type": "code",
   "execution_count": 45,
   "metadata": {},
   "outputs": [],
   "source": [
    "tokenizer = transformers.AutoTokenizer.from_pretrained(MODEL)"
   ]
  },
  {
   "cell_type": "code",
   "execution_count": 46,
   "metadata": {},
   "outputs": [],
   "source": [
    "reduced_train = pd.concat([train.query('toxic==0').sample(60000,random_state=1),\n",
    "                           train.query('toxic==1')]).sample(frac=1)"
   ]
  },
  {
   "cell_type": "code",
   "execution_count": 47,
   "metadata": {},
   "outputs": [
    {
     "name": "stdout",
     "output_type": "stream",
     "text": [
      "Number of Toxic Comment:  21384\n",
      "Number of Non-toxic Comment:  60000\n",
      "Ratio:  0.3564\n"
     ]
    }
   ],
   "source": [
    "print('Number of Toxic Comment: ',len(reduced_train.query('toxic==1')))\n",
    "print('Number of Non-toxic Comment: ',len(reduced_train.query('toxic==0')))\n",
    "print('Ratio: ',len(reduced_train.query('toxic==1'))/len(reduced_train.query('toxic==0')))"
   ]
  },
  {
   "cell_type": "code",
   "execution_count": 48,
   "metadata": {},
   "outputs": [],
   "source": [
    "x_train = batch_encode(reduced_train.comment_text.values, tokenizer, max_len = MAX_LEN)\n",
    "x_test = batch_encode(test_raw.content.values,tokenizer, max_len = MAX_LEN)\n",
    "x_validate = batch_encode(validation_raw.comment_text.values,tokenizer, max_len = MAX_LEN)"
   ]
  },
  {
   "cell_type": "code",
   "execution_count": 49,
   "metadata": {},
   "outputs": [],
   "source": [
    "y_train = reduced_train.toxic.values\n",
    "y_validate = validation_raw.toxic.values\n"
   ]
  },
  {
   "cell_type": "code",
   "execution_count": 50,
   "metadata": {},
   "outputs": [
    {
     "data": {
      "text/plain": [
       "63812"
      ]
     },
     "execution_count": 50,
     "metadata": {},
     "output_type": "execute_result"
    }
   ],
   "source": [
    "len(y_train)\n",
    "len(x_test)"
   ]
  },
  {
   "cell_type": "code",
   "execution_count": 51,
   "metadata": {},
   "outputs": [
    {
     "data": {
      "text/plain": [
       "81384"
      ]
     },
     "execution_count": 51,
     "metadata": {},
     "output_type": "execute_result"
    }
   ],
   "source": [
    "len(x_validate[0])\n",
    "len(x_train)"
   ]
  },
  {
   "cell_type": "markdown",
   "metadata": {},
   "source": [
    "#### Construct TF Dataset"
   ]
  },
  {
   "cell_type": "code",
   "execution_count": 52,
   "metadata": {},
   "outputs": [],
   "source": [
    "train_dataset = (tf.data.Dataset.from_tensor_slices((x_train,y_train))\n",
    "                 .repeat(1)\n",
    "                 .shuffle(2048)\n",
    "                 .batch(BATCH_SIZE)\n",
    "                 .prefetch(-1))"
   ]
  },
  {
   "cell_type": "code",
   "execution_count": 53,
   "metadata": {},
   "outputs": [],
   "source": [
    "validate_dataset = (tf.data.Dataset.from_tensor_slices((x_validate,y_validate))\n",
    "                    .batch(BATCH_SIZE)\n",
    "                    .prefetch(-1))"
   ]
  },
  {
   "cell_type": "code",
   "execution_count": 54,
   "metadata": {},
   "outputs": [],
   "source": [
    "test_dataset = (tf.data.Dataset.from_tensor_slices(x_test)\n",
    "               .batch(BATCH_SIZE)\n",
    "               .prefetch(-1))"
   ]
  },
  {
   "cell_type": "code",
   "execution_count": 55,
   "metadata": {},
   "outputs": [
    {
     "data": {
      "text/plain": [
       "<PrefetchDataset shapes: ((None, 128), (None,)), types: (tf.int32, tf.int64)>"
      ]
     },
     "execution_count": 55,
     "metadata": {},
     "output_type": "execute_result"
    }
   ],
   "source": [
    "validate_dataset"
   ]
  },
  {
   "cell_type": "code",
   "execution_count": 56,
   "metadata": {},
   "outputs": [
    {
     "data": {
      "text/plain": [
       "<PrefetchDataset shapes: ((None, 128), (None,)), types: (tf.int32, tf.int64)>"
      ]
     },
     "execution_count": 56,
     "metadata": {},
     "output_type": "execute_result"
    }
   ],
   "source": [
    "train_dataset"
   ]
  },
  {
   "cell_type": "markdown",
   "metadata": {},
   "source": [
    "#### construct model"
   ]
  },
  {
   "cell_type": "code",
   "execution_count": 57,
   "metadata": {},
   "outputs": [],
   "source": [
    "def build_roberta_dense(base_model,optimizer,loss,metric):\n",
    "    input_layer = tf.keras.layers.Input(shape=(MAX_LEN,), dtype=tf.int32, name='roberta_dense_input')\n",
    "    transformer_layer_out = base_model(input_layer, training=True)[0]\n",
    "    cls_token = transformer_layer_out[:,0,:]\n",
    "    dense_layer = tf.keras.layers.Dense(1,activation='sigmoid')\n",
    "    output = dense_layer(cls_token)\n",
    "    model = tf.keras.models.Model(inputs = input_layer, outputs = output)\n",
    "    model.compile(optimizer,loss=loss, metrics=['accuracy'])\n",
    "    return model\n"
   ]
  },
  {
   "cell_type": "code",
   "execution_count": 58,
   "metadata": {},
   "outputs": [],
   "source": [
    "class roberta_dense(tf.keras.Model):\n",
    "    def __init__(self, transformer):\n",
    "        super(roberta_dense,self).__init__()\n",
    "        self.transformer = transformer\n",
    "        self.dense_layer = tf.keras.layers.Dense(1, activation='sigmoid')\n",
    "\n",
    "    def call(self, x, training):\n",
    "        x = self.transformer(x,training=training)[0][:,0,:]\n",
    "        out = self.dense_layer(x)\n",
    "        return out\n",
    "    \n",
    "    def get_hidden_states(self,x):\n",
    "        return self.transformer(x, training=False)[2]\n",
    "    \n",
    "    def get_embedding(self, x):\n",
    "        return self.transformer(x,training=training)[0][:,0,:]\n"
   ]
  },
  {
   "cell_type": "code",
   "execution_count": 59,
   "metadata": {},
   "outputs": [],
   "source": [
    "def build_roberta_concat_dense(base_model,optimizer,loss,metric):\n",
    "    input_layer = tf.keras.layers.Input(shape=(MAX_LEN,), dtype=tf.int32, name='roberta_dense_input')\n",
    "    transformer_output = base_model(input_layer, training = True)\n",
    "    hidden_states = transformer_output[2]\n",
    "    pooling_layer = tf.concat(hidden_states[-4:],axis=-1,name='pooling_hidden_states')\n",
    "    dense_layer = tf.keras.layers.Dense(1,activation='sigmoid')\n",
    "    dense_layer1 = tf.keras.layers.Dense(1,activation='sigmoid')\n",
    "    dense_output = dense_layer(pooling_layer)[:,:,0]\n",
    "    output = dense_layer1(dense_output)\n",
    "    model = tf.keras.models.Model(inputs = input_layer, outputs = output)\n",
    "    model.compile(optimizer,loss=loss, metrics=['accuracy'])\n",
    "    return model"
   ]
  },
  {
   "cell_type": "code",
   "execution_count": 60,
   "metadata": {},
   "outputs": [],
   "source": [
    "# load transformer if model already exists offline, else download from web\n",
    "# try:\n",
    "#     model_path = os.path.join(MODEL_DIR,MODEL.replace('/','-'))\n",
    "#     transformer = tf.keras.models.load_model(model_path)\n",
    "# except OSError:\n",
    "#     transformer = transformers.TFAutoModel.from_pretrained(MODEL)\n",
    "#     print(\"Saving {0} to {1}\".format(MODEL,model_path))\n",
    "#     transformer.save(model_path)\n",
    "#     print(\"Done\")\n",
    "config = transformers.AutoConfig.from_pretrained(MODEL,output_hidden_states=True)\n",
    "transformer = transformers.TFAutoModel.from_pretrained(MODEL,config=config)"
   ]
  },
  {
   "cell_type": "code",
   "execution_count": 61,
   "metadata": {},
   "outputs": [
    {
     "name": "stdout",
     "output_type": "stream",
     "text": [
      "Model: \"tf_roberta_model\"\n",
      "_________________________________________________________________\n",
      "Layer (type)                 Output Shape              Param #   \n",
      "=================================================================\n",
      "roberta (TFRobertaMainLayer) multiple                  82118400  \n",
      "=================================================================\n",
      "Total params: 82,118,400\n",
      "Trainable params: 82,118,400\n",
      "Non-trainable params: 0\n",
      "_________________________________________________________________\n"
     ]
    }
   ],
   "source": [
    "transformer.summary()"
   ]
  },
  {
   "cell_type": "code",
   "execution_count": 62,
   "metadata": {
    "scrolled": true
   },
   "outputs": [],
   "source": [
    "# model_func = build_roberta_concat_densea_label_smooth\n",
    "adam = tf.keras.optimizers.Adam(1e-5)\n",
    "loss_func = tf.keras.losses.BinaryCrossentropy(label_smoothing=0.1)\n",
    "metric = tf.keras.metrics.BinaryAccuracy()\n",
    "# model = model_func(transformer, adam, loss_func,metric)\n",
    "model = roberta_dense(transformer)\n",
    "model.compile(adam, loss=loss_func, metrics=metric)"
   ]
  },
  {
   "cell_type": "code",
   "execution_count": 63,
   "metadata": {},
   "outputs": [
    {
     "data": {
      "text/plain": [
       "'roberta_dense'"
      ]
     },
     "execution_count": 63,
     "metadata": {},
     "output_type": "execute_result"
    }
   ],
   "source": [
    "model.__class__.__name__"
   ]
  },
  {
   "cell_type": "markdown",
   "metadata": {},
   "source": [
    "#### Training"
   ]
  },
  {
   "cell_type": "code",
   "execution_count": 64,
   "metadata": {},
   "outputs": [
    {
     "name": "stdout",
     "output_type": "stream",
     "text": [
      "Epoch 1/4\n",
      "WARNING:tensorflow:Gradients do not exist for variables ['tf_roberta_model/roberta/pooler/dense/kernel:0', 'tf_roberta_model/roberta/pooler/dense/bias:0'] when minimizing the loss.\n",
      "WARNING:tensorflow:Gradients do not exist for variables ['tf_roberta_model/roberta/pooler/dense/kernel:0', 'tf_roberta_model/roberta/pooler/dense/bias:0'] when minimizing the loss.\n",
      "WARNING:tensorflow:Gradients do not exist for variables ['tf_roberta_model/roberta/pooler/dense/kernel:0', 'tf_roberta_model/roberta/pooler/dense/bias:0'] when minimizing the loss.\n",
      "WARNING:tensorflow:Gradients do not exist for variables ['tf_roberta_model/roberta/pooler/dense/kernel:0', 'tf_roberta_model/roberta/pooler/dense/bias:0'] when minimizing the loss.\n",
      "2544/2544 [==============================] - 1176s 462ms/step - loss: 0.3211 - binary_accuracy: 0.9213 - val_loss: 0.5005 - val_binary_accuracy: 0.8480\n",
      "Epoch 2/4\n",
      "2544/2544 [==============================] - 1181s 464ms/step - loss: 0.2916 - binary_accuracy: 0.9416 - val_loss: 0.5618 - val_binary_accuracy: 0.8457\n",
      "Epoch 3/4\n",
      "2544/2544 [==============================] - 1200s 472ms/step - loss: 0.2765 - binary_accuracy: 0.9528 - val_loss: 0.5609 - val_binary_accuracy: 0.8456\n",
      "Epoch 4/4\n",
      "2544/2544 [==============================] - 1295s 509ms/step - loss: 0.2613 - binary_accuracy: 0.9628 - val_loss: 0.5655 - val_binary_accuracy: 0.8457\n"
     ]
    }
   ],
   "source": [
    "# tensorboard setup\n",
    "log_dir = os.path.join(LOG_DIR,'fit') +'\\\\' +datetime.datetime.now().strftime(\"%Y%m%d-%H%M%S\")\n",
    "tensorboard_callback = tf.keras.callbacks.TensorBoard(log_dir=log_dir, histogram_freq=1)\n",
    "# training\n",
    "train_hist = model.fit(train_dataset,validation_data=validate_dataset,epochs=4,callbacks=[tensorboard_callback])"
   ]
  },
  {
   "cell_type": "code",
   "execution_count": 36,
   "metadata": {},
   "outputs": [
    {
     "data": {
      "text/plain": [
       "(array([60000.,     0.,     0.,     0.,     0.,     0.,     0.,     0.,\n",
       "            0., 21384.]),\n",
       " array([0. , 0.1, 0.2, 0.3, 0.4, 0.5, 0.6, 0.7, 0.8, 0.9, 1. ]),\n",
       " <a list of 10 Patch objects>)"
      ]
     },
     "execution_count": 36,
     "metadata": {},
     "output_type": "execute_result"
    },
    {
     "data": {
      "image/png": "[encoded data removed]",
      "text/plain": [
       "<Figure size 432x288 with 1 Axes>"
      ]
     },
     "metadata": {
      "needs_background": "light"
     },
     "output_type": "display_data"
    }
   ],
   "source": [
    "plt.hist(reduced_train.toxic.values)"
   ]
  },
  {
   "cell_type": "code",
   "execution_count": 41,
   "metadata": {},
   "outputs": [],
   "source": [
    "train_predict = model.predict(validate_dataset)"
   ]
  },
  {
   "cell_type": "code",
   "execution_count": 42,
   "metadata": {},
   "outputs": [
    {
     "data": {
      "text/plain": [
       "(8000, 1)"
      ]
     },
     "execution_count": 42,
     "metadata": {},
     "output_type": "execute_result"
    }
   ],
   "source": [
    "train_predict.shape"
   ]
  },
  {
   "cell_type": "code",
   "execution_count": 46,
   "metadata": {},
   "outputs": [
    {
     "data": {
      "text/plain": [
       "(array([6770., 1230.]), array([0. , 0.5, 1. ]), <a list of 2 Patch objects>)"
      ]
     },
     "execution_count": 46,
     "metadata": {},
     "output_type": "execute_result"
    },
    {
     "data": {
      "image/png": "[encoded data removed]",
      "text/plain": [
       "<Figure size 432x288 with 1 Axes>"
      ]
     },
     "metadata": {
      "needs_background": "light"
     },
     "output_type": "display_data"
    }
   ],
   "source": [
    "plt.hist(y_validate.squeeze(),bins=2)"
   ]
  },
  {
   "cell_type": "code",
   "execution_count": 45,
   "metadata": {},
   "outputs": [
    {
     "data": {
      "text/plain": [
       "0.846625"
      ]
     },
     "execution_count": 45,
     "metadata": {},
     "output_type": "execute_result"
    }
   ],
   "source": [
    "np.sum(np.round(train_predict.squeeze())==y_validate)/train_predict.shape[0]"
   ]
  },
  {
   "cell_type": "code",
   "execution_count": null,
   "metadata": {},
   "outputs": [],
   "source": [
    "auc_metric = tf.keras.metrics.AUC(num_thresholds=200)\n",
    "_ = auc_metric.update_state(y_train,train_predict.squeeze())\n",
    "auc_metric.result().numpy()"
   ]
  },
  {
   "cell_type": "code",
   "execution_count": 51,
   "metadata": {},
   "outputs": [],
   "source": [
    "# save model weights after training\n",
    "ckpt_name = MODEL.replace('/','-') +'-'+ model.__class__.__name__\n",
    "model.save_weights(CHECKPT_DIR+'\\\\'+ckpt_name +'\\\\'+datetime.datetime.now().strftime(\"%Y%m%d-%H%M%S\"))"
   ]
  },
  {
   "cell_type": "markdown",
   "metadata": {},
   "source": [
    "#### Predict Test Data"
   ]
  },
  {
   "cell_type": "code",
   "execution_count": null,
   "metadata": {},
   "outputs": [],
   "source": [
    "# test_predict = model.predict(test_dataset)"
   ]
  },
  {
   "cell_type": "code",
   "execution_count": null,
   "metadata": {},
   "outputs": [],
   "source": []
  }
 ],
 "metadata": {
  "kernelspec": {
   "display_name": "Python 3",
   "language": "python",
   "name": "python3"
  },
  "language_info": {
   "codemirror_mode": {
    "name": "ipython",
    "version": 3
   },
   "file_extension": ".py",
   "mimetype": "text/x-python",
   "name": "python",
   "nbconvert_exporter": "python",
   "pygments_lexer": "ipython3",
   "version": "3.7.7"
  }
 },
 "nbformat": 4,
 "nbformat_minor": 4
}
